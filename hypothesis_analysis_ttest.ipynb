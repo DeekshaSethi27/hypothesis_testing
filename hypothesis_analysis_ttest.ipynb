{
 "cells": [
  {
   "cell_type": "markdown",
   "id": "6e7af928",
   "metadata": {},
   "source": [
    "# Conditions when ttest is applied"
   ]
  },
  {
   "cell_type": "markdown",
   "id": "1f43313a",
   "metadata": {},
   "source": [
    "#### 1. Data is Normal (Normality).\n",
    "#### 2. Data is continuous.\n",
    "#### 3. Population variance is unknown when applying ttest.\n",
    "#### NOTE: When Population variance is known- Z test is most recommended approach.\n",
    "\n",
    "#### Let's take significance level of testing, alpha is 5% i.e. 0.005"
   ]
  },
  {
   "cell_type": "markdown",
   "id": "25c0b747",
   "metadata": {},
   "source": [
    "# One Sample ttest"
   ]
  },
  {
   "cell_type": "markdown",
   "id": "ff062758",
   "metadata": {},
   "source": [
    "## Null Hypothesis, H0 : Population mean = Specified value"
   ]
  },
  {
   "cell_type": "code",
   "execution_count": 54,
   "id": "a83ac790",
   "metadata": {},
   "outputs": [],
   "source": [
    "# Import libraries\n",
    "\n",
    "import numpy as np\n",
    "import pandas as pd\n",
    "from scipy.stats import ttest_ind, ttest_rel"
   ]
  },
  {
   "cell_type": "code",
   "execution_count": 1,
   "id": "84e4a32b",
   "metadata": {},
   "outputs": [
    {
     "data": {
      "text/html": [
       "<div>\n",
       "<style scoped>\n",
       "    .dataframe tbody tr th:only-of-type {\n",
       "        vertical-align: middle;\n",
       "    }\n",
       "\n",
       "    .dataframe tbody tr th {\n",
       "        vertical-align: top;\n",
       "    }\n",
       "\n",
       "    .dataframe thead th {\n",
       "        text-align: right;\n",
       "    }\n",
       "</style>\n",
       "<table border=\"1\" class=\"dataframe\">\n",
       "  <thead>\n",
       "    <tr style=\"text-align: right;\">\n",
       "      <th></th>\n",
       "      <th>Age</th>\n",
       "      <th>Gender</th>\n",
       "      <th>Education Level</th>\n",
       "      <th>Job Title</th>\n",
       "      <th>Years of Experience</th>\n",
       "      <th>Salary</th>\n",
       "    </tr>\n",
       "  </thead>\n",
       "  <tbody>\n",
       "    <tr>\n",
       "      <th>0</th>\n",
       "      <td>32.0</td>\n",
       "      <td>Male</td>\n",
       "      <td>Bachelor's</td>\n",
       "      <td>Software Engineer</td>\n",
       "      <td>5.0</td>\n",
       "      <td>90000.0</td>\n",
       "    </tr>\n",
       "    <tr>\n",
       "      <th>1</th>\n",
       "      <td>28.0</td>\n",
       "      <td>Female</td>\n",
       "      <td>Master's</td>\n",
       "      <td>Data Analyst</td>\n",
       "      <td>3.0</td>\n",
       "      <td>65000.0</td>\n",
       "    </tr>\n",
       "    <tr>\n",
       "      <th>2</th>\n",
       "      <td>45.0</td>\n",
       "      <td>Male</td>\n",
       "      <td>PhD</td>\n",
       "      <td>Senior Manager</td>\n",
       "      <td>15.0</td>\n",
       "      <td>150000.0</td>\n",
       "    </tr>\n",
       "    <tr>\n",
       "      <th>3</th>\n",
       "      <td>36.0</td>\n",
       "      <td>Female</td>\n",
       "      <td>Bachelor's</td>\n",
       "      <td>Sales Associate</td>\n",
       "      <td>7.0</td>\n",
       "      <td>60000.0</td>\n",
       "    </tr>\n",
       "    <tr>\n",
       "      <th>4</th>\n",
       "      <td>52.0</td>\n",
       "      <td>Male</td>\n",
       "      <td>Master's</td>\n",
       "      <td>Director</td>\n",
       "      <td>20.0</td>\n",
       "      <td>200000.0</td>\n",
       "    </tr>\n",
       "  </tbody>\n",
       "</table>\n",
       "</div>"
      ],
      "text/plain": [
       "    Age  Gender Education Level          Job Title  Years of Experience  \\\n",
       "0  32.0    Male      Bachelor's  Software Engineer                  5.0   \n",
       "1  28.0  Female        Master's       Data Analyst                  3.0   \n",
       "2  45.0    Male             PhD     Senior Manager                 15.0   \n",
       "3  36.0  Female      Bachelor's    Sales Associate                  7.0   \n",
       "4  52.0    Male        Master's           Director                 20.0   \n",
       "\n",
       "     Salary  \n",
       "0   90000.0  \n",
       "1   65000.0  \n",
       "2  150000.0  \n",
       "3   60000.0  \n",
       "4  200000.0  "
      ]
     },
     "execution_count": 1,
     "metadata": {},
     "output_type": "execute_result"
    }
   ],
   "source": [
    "# We are taking Covid dataset \n",
    "salary_data = pd.read_csv('Salary_Data.csv')\n",
    "salary_data.head()"
   ]
  },
  {
   "cell_type": "code",
   "execution_count": 2,
   "id": "cdb7d3c8",
   "metadata": {},
   "outputs": [
    {
     "data": {
      "text/plain": [
       "(6704, 6)"
      ]
     },
     "execution_count": 2,
     "metadata": {},
     "output_type": "execute_result"
    }
   ],
   "source": [
    "salary_data.shape"
   ]
  },
  {
   "cell_type": "markdown",
   "id": "e27a9ac5",
   "metadata": {},
   "source": [
    "#### Perform ttest on Age column of the Salary dataset."
   ]
  },
  {
   "cell_type": "code",
   "execution_count": 3,
   "id": "4cb9eccd",
   "metadata": {},
   "outputs": [
    {
     "data": {
      "text/plain": [
       "array([32., 28., 45., 36., 52., 29., 42., 31., 26., 38., 48., 35., 40.,\n",
       "       27., 44., 33., 39., 25., 51., 34., 47., 30., 41., 37., 24., 43.,\n",
       "       50., 46., 49., 23., 53., nan, 61., 57., 62., 55., 56., 54., 60.,\n",
       "       58., 22., 21.])"
      ]
     },
     "execution_count": 3,
     "metadata": {},
     "output_type": "execute_result"
    }
   ],
   "source": [
    "# Let's check if the Age column has any null values or not.\n",
    "salary_data['Age'].unique()"
   ]
  },
  {
   "cell_type": "markdown",
   "id": "517a63a7",
   "metadata": {},
   "source": [
    "#### Now apply ttest for this particular observations."
   ]
  },
  {
   "cell_type": "code",
   "execution_count": 8,
   "id": "c731c983",
   "metadata": {},
   "outputs": [],
   "source": [
    "salary_data['Age']= salary_data['Age'].replace(np.nan,salary_data['Age'].median() )"
   ]
  },
  {
   "cell_type": "markdown",
   "id": "42d6bb35",
   "metadata": {},
   "source": [
    "#### It does have any null values. Let's replace that value with median.\n"
   ]
  },
  {
   "cell_type": "code",
   "execution_count": 9,
   "id": "cced9480",
   "metadata": {},
   "outputs": [
    {
     "data": {
      "text/plain": [
       "dtype('float64')"
      ]
     },
     "execution_count": 9,
     "metadata": {},
     "output_type": "execute_result"
    }
   ],
   "source": [
    "# Now let's fetch the age for all employees.\n",
    "age = salary_data['Age']\n",
    "age.dtype"
   ]
  },
  {
   "cell_type": "markdown",
   "id": "a002bca6",
   "metadata": {},
   "source": [
    "### Performing 1 sample ttest"
   ]
  },
  {
   "cell_type": "code",
   "execution_count": 56,
   "id": "c25f2697",
   "metadata": {},
   "outputs": [
    {
     "data": {
      "text/plain": [
       "TtestResult(statistic=-4.082570504931489, pvalue=4.505820030225165e-05, df=6703)"
      ]
     },
     "execution_count": 56,
     "metadata": {},
     "output_type": "execute_result"
    }
   ],
   "source": [
    "ttest_1_sample = stats.ttest_1samp(age, 34)\n",
    "ttest_1_sample "
   ]
  },
  {
   "cell_type": "markdown",
   "id": "e548188b",
   "metadata": {},
   "source": [
    "## Conclusions:\n",
    "### We can observe now the p_value is less than the significance level(0.05). Hence: \n",
    "#### H0 (null hypothesis) is rejected.\n",
    "#### H1(Alternate hypothesis): Population Age mean > 34"
   ]
  },
  {
   "cell_type": "markdown",
   "id": "3b4fbbb0",
   "metadata": {},
   "source": [
    "### Let's find the Cumulative Frequency."
   ]
  },
  {
   "cell_type": "code",
   "execution_count": 31,
   "id": "333bdac5",
   "metadata": {},
   "outputs": [],
   "source": [
    "cumulative_distribution = stats.t.cdf(-4.082570504931489,6703)"
   ]
  },
  {
   "cell_type": "markdown",
   "id": "2557de59",
   "metadata": {},
   "source": [
    "### P-value using Cumulative Frequency."
   ]
  },
  {
   "cell_type": "code",
   "execution_count": 32,
   "id": "f5221a5f",
   "metadata": {},
   "outputs": [
    {
     "data": {
      "text/plain": [
       "0.9999774708998489"
      ]
     },
     "execution_count": 32,
     "metadata": {},
     "output_type": "execute_result"
    }
   ],
   "source": [
    "p_value = 1-cumulative_distribution\n",
    "p_value"
   ]
  },
  {
   "cell_type": "markdown",
   "id": "b20e4e17",
   "metadata": {},
   "source": [
    "# Two Sample ttest : testing for difference across populations"
   ]
  },
  {
   "cell_type": "markdown",
   "id": "3cce7d39",
   "metadata": {},
   "source": [
    "## Let's take 2 Independent samples for this."
   ]
  },
  {
   "cell_type": "code",
   "execution_count": 52,
   "id": "64df3a36",
   "metadata": {},
   "outputs": [],
   "source": [
    "age_sample_a = np.random.normal(2.5,0.9,1000)\n",
    "age_sample_b = np.random.normal(1.8,0.7,1000)"
   ]
  },
  {
   "cell_type": "markdown",
   "id": "dc1d1f75",
   "metadata": {},
   "source": [
    "### ttest"
   ]
  },
  {
   "cell_type": "code",
   "execution_count": 58,
   "id": "f8986c35",
   "metadata": {},
   "outputs": [
    {
     "data": {
      "text/plain": [
       "Ttest_indResult(statistic=18.32270574393021, pvalue=1.9285978576583044e-69)"
      ]
     },
     "execution_count": 58,
     "metadata": {},
     "output_type": "execute_result"
    }
   ],
   "source": [
    "ttest_2_sample = stats.ttest_ind(age_sample_a, age_sample_b)\n",
    "ttest_2_sample"
   ]
  },
  {
   "cell_type": "markdown",
   "id": "5b1ecb05",
   "metadata": {},
   "source": [
    "# Two Sample Paired ttest : repeated measurements on the same individuals"
   ]
  },
  {
   "cell_type": "markdown",
   "id": "4b18baa9",
   "metadata": {},
   "source": [
    "## Null Hypothesis, H0 : variance chilled == variance non-chilled"
   ]
  },
  {
   "cell_type": "markdown",
   "id": "fc699ba7",
   "metadata": {},
   "source": [
    "## Alternate Hypothesis, H1 : variance chilled != variance non-chilled"
   ]
  },
  {
   "cell_type": "code",
   "execution_count": 69,
   "id": "8586a5f6",
   "metadata": {},
   "outputs": [
    {
     "data": {
      "text/html": [
       "<div>\n",
       "<style scoped>\n",
       "    .dataframe tbody tr th:only-of-type {\n",
       "        vertical-align: middle;\n",
       "    }\n",
       "\n",
       "    .dataframe tbody tr th {\n",
       "        vertical-align: top;\n",
       "    }\n",
       "\n",
       "    .dataframe thead th {\n",
       "        text-align: right;\n",
       "    }\n",
       "</style>\n",
       "<table border=\"1\" class=\"dataframe\">\n",
       "  <thead>\n",
       "    <tr style=\"text-align: right;\">\n",
       "      <th></th>\n",
       "      <th>Plant</th>\n",
       "      <th>Type</th>\n",
       "      <th>Treatment</th>\n",
       "      <th>conc</th>\n",
       "      <th>uptake</th>\n",
       "    </tr>\n",
       "  </thead>\n",
       "  <tbody>\n",
       "    <tr>\n",
       "      <th>0</th>\n",
       "      <td>Qn1</td>\n",
       "      <td>Quebec</td>\n",
       "      <td>nonchilled</td>\n",
       "      <td>95</td>\n",
       "      <td>16.0</td>\n",
       "    </tr>\n",
       "    <tr>\n",
       "      <th>1</th>\n",
       "      <td>Qn1</td>\n",
       "      <td>Quebec</td>\n",
       "      <td>nonchilled</td>\n",
       "      <td>175</td>\n",
       "      <td>30.4</td>\n",
       "    </tr>\n",
       "    <tr>\n",
       "      <th>2</th>\n",
       "      <td>Qn1</td>\n",
       "      <td>Quebec</td>\n",
       "      <td>nonchilled</td>\n",
       "      <td>250</td>\n",
       "      <td>34.8</td>\n",
       "    </tr>\n",
       "    <tr>\n",
       "      <th>3</th>\n",
       "      <td>Qn1</td>\n",
       "      <td>Quebec</td>\n",
       "      <td>nonchilled</td>\n",
       "      <td>350</td>\n",
       "      <td>37.2</td>\n",
       "    </tr>\n",
       "    <tr>\n",
       "      <th>4</th>\n",
       "      <td>Qn1</td>\n",
       "      <td>Quebec</td>\n",
       "      <td>nonchilled</td>\n",
       "      <td>500</td>\n",
       "      <td>35.3</td>\n",
       "    </tr>\n",
       "    <tr>\n",
       "      <th>...</th>\n",
       "      <td>...</td>\n",
       "      <td>...</td>\n",
       "      <td>...</td>\n",
       "      <td>...</td>\n",
       "      <td>...</td>\n",
       "    </tr>\n",
       "    <tr>\n",
       "      <th>79</th>\n",
       "      <td>Mc3</td>\n",
       "      <td>Mississippi</td>\n",
       "      <td>chilled</td>\n",
       "      <td>250</td>\n",
       "      <td>17.9</td>\n",
       "    </tr>\n",
       "    <tr>\n",
       "      <th>80</th>\n",
       "      <td>Mc3</td>\n",
       "      <td>Mississippi</td>\n",
       "      <td>chilled</td>\n",
       "      <td>350</td>\n",
       "      <td>17.9</td>\n",
       "    </tr>\n",
       "    <tr>\n",
       "      <th>81</th>\n",
       "      <td>Mc3</td>\n",
       "      <td>Mississippi</td>\n",
       "      <td>chilled</td>\n",
       "      <td>500</td>\n",
       "      <td>17.9</td>\n",
       "    </tr>\n",
       "    <tr>\n",
       "      <th>82</th>\n",
       "      <td>Mc3</td>\n",
       "      <td>Mississippi</td>\n",
       "      <td>chilled</td>\n",
       "      <td>675</td>\n",
       "      <td>18.9</td>\n",
       "    </tr>\n",
       "    <tr>\n",
       "      <th>83</th>\n",
       "      <td>Mc3</td>\n",
       "      <td>Mississippi</td>\n",
       "      <td>chilled</td>\n",
       "      <td>1000</td>\n",
       "      <td>19.9</td>\n",
       "    </tr>\n",
       "  </tbody>\n",
       "</table>\n",
       "<p>84 rows × 5 columns</p>\n",
       "</div>"
      ],
      "text/plain": [
       "   Plant         Type   Treatment  conc  uptake\n",
       "0    Qn1       Quebec  nonchilled    95    16.0\n",
       "1    Qn1       Quebec  nonchilled   175    30.4\n",
       "2    Qn1       Quebec  nonchilled   250    34.8\n",
       "3    Qn1       Quebec  nonchilled   350    37.2\n",
       "4    Qn1       Quebec  nonchilled   500    35.3\n",
       "..   ...          ...         ...   ...     ...\n",
       "79   Mc3  Mississippi     chilled   250    17.9\n",
       "80   Mc3  Mississippi     chilled   350    17.9\n",
       "81   Mc3  Mississippi     chilled   500    17.9\n",
       "82   Mc3  Mississippi     chilled   675    18.9\n",
       "83   Mc3  Mississippi     chilled  1000    19.9\n",
       "\n",
       "[84 rows x 5 columns]"
      ]
     },
     "execution_count": 69,
     "metadata": {},
     "output_type": "execute_result"
    }
   ],
   "source": [
    "# We are taking Type of plants dataframe.\n",
    "co2_data = pd.read_csv(\"CO2.csv\")\n",
    "co2_data"
   ]
  },
  {
   "cell_type": "markdown",
   "id": "7779e7dd",
   "metadata": {},
   "source": [
    "## Split into 2 dataframes on the basis of Plant treatment Chill vs Non-chill"
   ]
  },
  {
   "cell_type": "code",
   "execution_count": 65,
   "id": "5dee9435",
   "metadata": {},
   "outputs": [],
   "source": [
    "co2_chill = co2_data[co2_data['Treatment']=='chilled']\n",
    "co2_non_chill = co2_data[co2_data['Treatment']=='nonchilled']"
   ]
  },
  {
   "cell_type": "markdown",
   "id": "ad0413ec",
   "metadata": {},
   "source": [
    "## Now extracting the uptake value for Chill and Non-chill treatment for plants."
   ]
  },
  {
   "cell_type": "code",
   "execution_count": 71,
   "id": "81638eaa",
   "metadata": {},
   "outputs": [],
   "source": [
    "uptake_chill = co2_chill['uptake']\n",
    "uptake_non_chill = co2_non_chill['uptake']"
   ]
  },
  {
   "cell_type": "markdown",
   "id": "be899459",
   "metadata": {},
   "source": [
    "### Performing 2 sample ttest\n",
    "\n",
    "#### Assuming variance is same for both samples"
   ]
  },
  {
   "cell_type": "code",
   "execution_count": 83,
   "id": "a92a09c8",
   "metadata": {},
   "outputs": [
    {
     "data": {
      "text/plain": [
       "Ttest_indResult(statistic=-3.0484611149819503, pvalue=0.0030957332525416484)"
      ]
     },
     "execution_count": 83,
     "metadata": {},
     "output_type": "execute_result"
    }
   ],
   "source": [
    "ttest_2_sample = stats.ttest_ind(uptake_chill,uptake_non_chill)\n",
    "ttest_2_sample"
   ]
  },
  {
   "cell_type": "markdown",
   "id": "12a8236a",
   "metadata": {},
   "source": [
    "## Conclusions:\n",
    "\n",
    "### We can observe now the p_value is less than the significance level (0.05). Hence:\n",
    "\n",
    "#### H0 (null hypothesis) is rejected.\n",
    "\n",
    "#### The means of uptake values may not be equal for two treatments at 5% level of significance."
   ]
  },
  {
   "cell_type": "markdown",
   "id": "19f1f299",
   "metadata": {},
   "source": [
    "### Performing 2 sample Paired ttest :: repeated measurements on the same individuals\n"
   ]
  },
  {
   "cell_type": "markdown",
   "id": "74c9aaac",
   "metadata": {},
   "source": [
    "### Let's generate random integer from range x to y and perform paired ttest on it."
   ]
  },
  {
   "cell_type": "code",
   "execution_count": 90,
   "id": "fcfa2bd8",
   "metadata": {},
   "outputs": [],
   "source": [
    "pre_weight= np.random.randint(80, 100, 5)\n",
    "post_weight= np.random.randint(80, 100, 5)"
   ]
  },
  {
   "cell_type": "markdown",
   "id": "597d7c36",
   "metadata": {},
   "source": [
    "### Now in Paired ttest, assume xi and yi are the paired observations and n is the sample size:\n",
    "### 1. di= xi-yi is the corresponding difference in the paired observations\n",
    "### 2. Let sd is the standard deviation for the difference and d is the mean of difference in samples. D is the populatiin mean.\n",
    "### 3. Two tailed hypothesis-\n",
    "## H0: D =0 and H1: D!=0"
   ]
  },
  {
   "cell_type": "code",
   "execution_count": 91,
   "id": "83f5b41d",
   "metadata": {},
   "outputs": [
    {
     "data": {
      "text/plain": [
       "TtestResult(statistic=-1.8926798044321347, pvalue=0.13134358766976953, df=4)"
      ]
     },
     "execution_count": 91,
     "metadata": {},
     "output_type": "execute_result"
    }
   ],
   "source": [
    "ttest_2_sample_paired = stats.ttest_rel(pre_weight,post_weight)\n",
    "ttest_2_sample_paired"
   ]
  },
  {
   "cell_type": "markdown",
   "id": "186afbc2",
   "metadata": {},
   "source": [
    "## Conclusions:\n",
    "\n",
    "### We can observe now the p_value is greater than the significance level (0.05). Hence:\n",
    "\n",
    "#### H0 (null hypothesis) is accepted or failed to reject Nulll hypothesis.\n"
   ]
  }
 ],
 "metadata": {
  "kernelspec": {
   "display_name": "Python 3 (ipykernel)",
   "language": "python",
   "name": "python3"
  },
  "language_info": {
   "codemirror_mode": {
    "name": "ipython",
    "version": 3
   },
   "file_extension": ".py",
   "mimetype": "text/x-python",
   "name": "python",
   "nbconvert_exporter": "python",
   "pygments_lexer": "ipython3",
   "version": "3.8.6"
  }
 },
 "nbformat": 4,
 "nbformat_minor": 5
}
